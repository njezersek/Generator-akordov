{
 "cells": [
  {
   "cell_type": "code",
   "execution_count": 141,
   "metadata": {},
   "outputs": [],
   "source": [
    "import itertools\r\n",
    "from types import SimpleNamespace"
   ]
  },
  {
   "cell_type": "code",
   "execution_count": 163,
   "metadata": {},
   "outputs": [],
   "source": [
    "names = ['c','cis','d','dis','e','f','fis','g','gis','a','b','h']\r\n",
    "class Note:\r\n",
    "\tdef __init__(self, id=False, name=False):\r\n",
    "\t\tself.id = 0\r\n",
    "\t\tif id: self.id = id\r\n",
    "\t\tif name: self.id = names.index(name)\r\n",
    "\t\r\n",
    "\tdef __str__(self) -> str:\r\n",
    "\t\treturn f\"{names[self.id]}\"\r\n",
    "\r\n",
    "\tdef __eq__(self, o: object) -> bool:\r\n",
    "\t\treturn self.id == o.id\r\n",
    "\r\n",
    "\tdef shift(self, d):\r\n",
    "\t\treturn Note(id = (self.id + d)%len(names))\r\n",
    "\r\n",
    "class Chord:\r\n",
    "\tdef __init__(self, root:Note, deltas=[0,4,7]):\r\n",
    "\t\tself.root = root\r\n",
    "\t\tself.notes = [root.shift(d) for d in deltas]\r\n",
    "\r\n",
    "\tdef __str__(self) -> str:\r\n",
    "\t\treturn '['+','.join(map(str, self.notes))+']'\r\n",
    "\r\n",
    "class Grip:\r\n",
    "\tdef __init__(sefl, grip):\r\n",
    "\t\tself.grip = grip\r\n",
    "\t\tself.barre = min(grip)\r\n",
    "\t\tself.end = max(grip)\r\n",
    "\t\tself.fingers = len(guitar) - grip.count(barre)\r\n",
    "\t\tif self.barre != 0: self.fingers += 1\r\n",
    "\t\tself.span = self.end - self.barre\r\n",
    "\t\tself.score = self.fingers + self.span"
   ]
  },
  {
   "cell_type": "code",
   "execution_count": 167,
   "metadata": {},
   "outputs": [],
   "source": [
    "def nameToId(name):\r\n",
    "\treturn names.index(str.lower(name))"
   ]
  },
  {
   "cell_type": "code",
   "execution_count": 166,
   "metadata": {},
   "outputs": [
    {
     "data": {
      "text/plain": "1"
     },
     "execution_count": 166,
     "metadata": {},
     "output_type": "execute_result"
    }
   ],
   "source": [
    "nameToId('Cis')"
   ]
  },
  {
   "cell_type": "code",
   "execution_count": 107,
   "metadata": {},
   "outputs": [],
   "source": [
    "guitar = [Note(name='E'), Note(name='A'), Note(name='D'), Note(name='G'), Note(name='H'), Note(name='E')]\r\n",
    "th = 12"
   ]
  },
  {
   "cell_type": "code",
   "execution_count": 127,
   "metadata": {},
   "outputs": [
    {
     "name": "stdout",
     "output_type": "stream",
     "text": [
      "[D,Fis,A]\n"
     ]
    }
   ],
   "source": [
    "n = Note(name = 'D')\r\n",
    "c = Chord(n)\r\n",
    "print(c)"
   ]
  },
  {
   "cell_type": "markdown",
   "metadata": {},
   "source": [
    "Vse možne lege za posamezno struno:"
   ]
  },
  {
   "cell_type": "code",
   "execution_count": 154,
   "metadata": {},
   "outputs": [],
   "source": [
    "dStrings = [[d for d in range(th) if string.shift(d) in c.notes] for string in guitar]\r\n",
    "def score(grip):\r\n",
    "\tbarre = min(grip)\r\n",
    "\tstart = min(filter(lambda x: x != 0, grip))\r\n",
    "\tend = max(grip)\r\n",
    "\tfingers = len(guitar) - grip.count(barre) + (1 if barre != 0 else 0)\r\n",
    "\tspan = end - start + 1\r\n",
    "\tscore = fingers + span\r\n",
    "\treturn SimpleNamespace(grip=grip, barre=barre, score=score)\r\n",
    "\t\r\n",
    "chords = [score(grip) for grip in itertools.product(*dStrings)]"
   ]
  },
  {
   "cell_type": "code",
   "execution_count": 156,
   "metadata": {},
   "outputs": [
    {
     "data": {
      "text/plain": "[namespace(grip=(2, 0, 0, 2, 3, 2), barre=0, score=6),\n namespace(grip=(10, 0, 0, 11, 10, 10), barre=0, score=6),\n namespace(grip=(5, 0, 0, 7, 7, 5), barre=0, score=7),\n namespace(grip=(5, 5, 7, 7, 7, 5), barre=5, score=7),\n namespace(grip=(2, 0, 0, 2, 3, 5), barre=0, score=8),\n namespace(grip=(2, 0, 4, 2, 3, 2), barre=0, score=8),\n namespace(grip=(2, 5, 4, 2, 3, 2), barre=2, score=8),\n namespace(grip=(5, 0, 0, 2, 3, 2), barre=0, score=8),\n namespace(grip=(5, 0, 0, 2, 3, 5), barre=0, score=8),\n namespace(grip=(5, 0, 7, 7, 7, 5), barre=0, score=8),\n namespace(grip=(5, 5, 0, 7, 7, 5), barre=0, score=8),\n namespace(grip=(10, 0, 0, 7, 7, 10), barre=0, score=8),\n namespace(grip=(10, 0, 0, 7, 10, 10), barre=0, score=8),\n namespace(grip=(10, 9, 0, 11, 10, 10), barre=0, score=8),\n namespace(grip=(10, 9, 7, 7, 7, 10), barre=7, score=8),\n namespace(grip=(2, 0, 4, 2, 3, 5), barre=0, score=9),\n namespace(grip=(2, 5, 0, 2, 3, 2), barre=0, score=9),\n namespace(grip=(2, 5, 0, 2, 3, 5), barre=0, score=9),\n namespace(grip=(2, 5, 4, 2, 3, 5), barre=2, score=9),\n namespace(grip=(5, 0, 0, 7, 3, 5), barre=0, score=9),\n namespace(grip=(5, 0, 4, 2, 3, 2), barre=0, score=9),\n namespace(grip=(5, 0, 4, 2, 3, 5), barre=0, score=9),\n namespace(grip=(5, 0, 4, 7, 7, 5), barre=0, score=9),\n namespace(grip=(5, 5, 0, 2, 3, 2), barre=0, score=9),\n namespace(grip=(5, 5, 0, 2, 3, 5), barre=0, score=9),\n namespace(grip=(5, 5, 4, 2, 3, 2), barre=2, score=9),\n namespace(grip=(10, 0, 0, 11, 7, 10), barre=0, score=9),\n namespace(grip=(10, 0, 7, 7, 7, 10), barre=0, score=9),\n namespace(grip=(10, 0, 7, 7, 10, 10), barre=0, score=9),\n namespace(grip=(10, 9, 0, 7, 7, 10), barre=0, score=9),\n namespace(grip=(10, 9, 0, 7, 10, 10), barre=0, score=9),\n namespace(grip=(10, 9, 7, 7, 10, 10), barre=7, score=9)]"
     },
     "execution_count": 156,
     "metadata": {},
     "output_type": "execute_result"
    }
   ],
   "source": [
    "sorted(filter(lambda c: c.score < 10, chords), key=lambda c: c.score)"
   ]
  }
 ],
 "metadata": {
  "kernelspec": {
   "display_name": "Python 3.8.7 64-bit",
   "name": "python387jvsc74a57bd01baa965d5efe3ac65b79dfc60c0d706280b1da80fedb7760faf2759126c4f253"
  },
  "language_info": {
   "codemirror_mode": {
    "name": "ipython",
    "version": 3
   },
   "file_extension": ".py",
   "mimetype": "text/x-python",
   "name": "python",
   "nbconvert_exporter": "python",
   "pygments_lexer": "ipython3",
   "version": "3.8.7"
  },
  "metadata": {
   "interpreter": {
    "hash": "1baa965d5efe3ac65b79dfc60c0d706280b1da80fedb7760faf2759126c4f253"
   }
  },
  "orig_nbformat": 2
 },
 "nbformat": 4,
 "nbformat_minor": 2
}